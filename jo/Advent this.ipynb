{
 "cells": [
  {
   "cell_type": "markdown",
   "id": "792eb2a7-63ec-49b8-8bcf-a2f7c233af4c",
   "metadata": {},
   "source": [
    "## Day 1: Trebuchet?!"
   ]
  },
  {
   "cell_type": "code",
   "execution_count": 53,
   "id": "0cf21680-4955-4ea8-9553-512a00f54bbb",
   "metadata": {
    "execution": {
     "iopub.execute_input": "2023-12-01T18:42:11.226187Z",
     "iopub.status.busy": "2023-12-01T18:42:11.225174Z",
     "iopub.status.idle": "2023-12-01T18:42:11.234130Z",
     "shell.execute_reply": "2023-12-01T18:42:11.232578Z",
     "shell.execute_reply.started": "2023-12-01T18:42:11.226123Z"
    }
   },
   "outputs": [
    {
     "data": {
      "text/plain": [
       "['1abc2', 'pqr3stu8vwx', 'a1b2c3d4e5f', 'treb7uchet']"
      ]
     },
     "execution_count": 53,
     "metadata": {},
     "output_type": "execute_result"
    }
   ],
   "source": [
    "sample = \"\"\"1abc2\n",
    "pqr3stu8vwx\n",
    "a1b2c3d4e5f\n",
    "treb7uchet\"\"\".split('\\n')\n",
    "sample"
   ]
  },
  {
   "cell_type": "code",
   "execution_count": 55,
   "id": "e6f8b468-3492-4315-9088-8bb54b869b40",
   "metadata": {
    "execution": {
     "iopub.execute_input": "2023-12-01T18:42:20.355133Z",
     "iopub.status.busy": "2023-12-01T18:42:20.354552Z",
     "iopub.status.idle": "2023-12-01T18:42:20.363106Z",
     "shell.execute_reply": "2023-12-01T18:42:20.362063Z",
     "shell.execute_reply.started": "2023-12-01T18:42:20.355093Z"
    }
   },
   "outputs": [
    {
     "name": "stdout",
     "output_type": "stream",
     "text": [
      "('1', '2')\n",
      "('3', '8')\n",
      "('1', '5')\n",
      "('7', '7')\n"
     ]
    }
   ],
   "source": [
    "import re\n",
    "\n",
    "def extract_calibration_value(txt, debug=False):\n",
    "    digits = re.match(r'^.*?(\\d)', txt).group(1), re.match(r'.*(\\d).*$', txt).group(1)\n",
    "    if debug:\n",
    "        print(digits)\n",
    "    return int(''.join(digits))\n",
    "\n",
    "sample_res = [12, 38, 15, 77]\n",
    "assert all(extract_calibration_value(line, debug=True) == res for line, res in zip(sample, sample_res))"
   ]
  },
  {
   "cell_type": "code",
   "execution_count": 41,
   "id": "699aa885-484f-4ecb-bef5-97035871be73",
   "metadata": {
    "execution": {
     "iopub.execute_input": "2023-12-01T18:29:17.898806Z",
     "iopub.status.busy": "2023-12-01T18:29:17.897987Z",
     "iopub.status.idle": "2023-12-01T18:29:17.907829Z",
     "shell.execute_reply": "2023-12-01T18:29:17.904769Z",
     "shell.execute_reply.started": "2023-12-01T18:29:17.898767Z"
    }
   },
   "outputs": [
    {
     "data": {
      "text/plain": [
       "(1000, 'mbnfjkxptbtjmgcrtkhxjvjhjnine83mpnsixfcmxcbnspx\\n')"
      ]
     },
     "execution_count": 41,
     "metadata": {},
     "output_type": "execute_result"
    }
   ],
   "source": [
    "with open('input_day1.txt') as f:\n",
    "    lines = f.readlines()\n",
    "len(lines), lines[-1]"
   ]
  },
  {
   "cell_type": "code",
   "execution_count": 42,
   "id": "aefe256e-f002-4c97-9f65-41318985fe78",
   "metadata": {
    "execution": {
     "iopub.execute_input": "2023-12-01T18:29:18.587360Z",
     "iopub.status.busy": "2023-12-01T18:29:18.586887Z",
     "iopub.status.idle": "2023-12-01T18:29:18.600728Z",
     "shell.execute_reply": "2023-12-01T18:29:18.599496Z",
     "shell.execute_reply.started": "2023-12-01T18:29:18.587321Z"
    }
   },
   "outputs": [
    {
     "data": {
      "text/plain": [
       "53974"
      ]
     },
     "execution_count": 42,
     "metadata": {},
     "output_type": "execute_result"
    }
   ],
   "source": [
    "sum(map(extract_calibration_value, lines))"
   ]
  },
  {
   "cell_type": "code",
   "execution_count": 61,
   "id": "38909687-2f93-421b-8eb5-7e6762f484d3",
   "metadata": {
    "execution": {
     "iopub.execute_input": "2023-12-01T18:45:29.821517Z",
     "iopub.status.busy": "2023-12-01T18:45:29.820929Z",
     "iopub.status.idle": "2023-12-01T18:45:29.832417Z",
     "shell.execute_reply": "2023-12-01T18:45:29.831427Z",
     "shell.execute_reply.started": "2023-12-01T18:45:29.821469Z"
    }
   },
   "outputs": [
    {
     "name": "stdout",
     "output_type": "stream",
     "text": [
      "(\\d|one|two|three|four|five|six|seven|eight|nine)\n",
      "['2', '9']\n",
      "['8', '3']\n",
      "['1', '3']\n",
      "['2', '4']\n",
      "['4', '2']\n",
      "['1', '4']\n",
      "['7', '6']\n"
     ]
    }
   ],
   "source": [
    "sample = \"\"\"two1nine\n",
    "eightwothree\n",
    "abcone2threexyz\n",
    "xtwone3four\n",
    "4nineeightseven2\n",
    "zoneight234\n",
    "7pqrstsixteen\"\"\".split('\\n')\n",
    "sample_res = [29, 83, 13, 24, 42, 14, 76]\n",
    "\n",
    "DIGIT_STRINGS = ['one', 'two', 'three', 'four', 'five', 'six', 'seven', 'eight', 'nine']\n",
    "DIGIT_MAP = {s: str(i+1) for i, s in enumerate(DIGIT_STRINGS)}\n",
    "DIGIT_REGEX = r'(\\d|' + '|'.join(DIGIT_STRINGS) + ')'\n",
    "print(DIGIT_REGEX)\n",
    "\n",
    "def extract_calibration_value_2(txt, debug=False):\n",
    "    digits = re.match(rf'^.*?{DIGIT_REGEX}', txt).group(1), re.match(rf'.*{DIGIT_REGEX}.*$', txt).group(1)\n",
    "    digits = [DIGIT_MAP.get(d) or d for d in digits]\n",
    "    if debug:\n",
    "        print(digits)\n",
    "    return int(''.join(digits))\n",
    "\n",
    "assert all(extract_calibration_value_2(line, debug=True) == res for line, res in zip(sample, sample_res))"
   ]
  },
  {
   "cell_type": "code",
   "execution_count": 62,
   "id": "a5da94a0-d968-4703-846d-d1f81774022a",
   "metadata": {
    "execution": {
     "iopub.execute_input": "2023-12-01T18:46:35.298480Z",
     "iopub.status.busy": "2023-12-01T18:46:35.297486Z",
     "iopub.status.idle": "2023-12-01T18:46:35.311881Z",
     "shell.execute_reply": "2023-12-01T18:46:35.310984Z",
     "shell.execute_reply.started": "2023-12-01T18:46:35.298403Z"
    }
   },
   "outputs": [
    {
     "data": {
      "text/plain": [
       "52840"
      ]
     },
     "execution_count": 62,
     "metadata": {},
     "output_type": "execute_result"
    }
   ],
   "source": [
    "sum(map(extract_calibration_value_2, lines))"
   ]
  },
  {
   "cell_type": "code",
   "execution_count": null,
   "id": "ecb26ad1-d587-41df-a7e7-1ecaddc59f14",
   "metadata": {},
   "outputs": [],
   "source": []
  }
 ],
 "metadata": {
  "kernelspec": {
   "display_name": "Python 3 (ipykernel)",
   "language": "python",
   "name": "python3"
  },
  "language_info": {
   "codemirror_mode": {
    "name": "ipython",
    "version": 3
   },
   "file_extension": ".py",
   "mimetype": "text/x-python",
   "name": "python",
   "nbconvert_exporter": "python",
   "pygments_lexer": "ipython3",
   "version": "3.10.4"
  }
 },
 "nbformat": 4,
 "nbformat_minor": 5
}
