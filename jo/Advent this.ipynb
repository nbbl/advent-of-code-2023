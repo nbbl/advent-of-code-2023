{
 "cells": [
  {
   "cell_type": "markdown",
   "id": "792eb2a7-63ec-49b8-8bcf-a2f7c233af4c",
   "metadata": {},
   "source": [
    "## Day 1: Trebuchet?!"
   ]
  },
  {
   "cell_type": "code",
   "execution_count": 53,
   "id": "0cf21680-4955-4ea8-9553-512a00f54bbb",
   "metadata": {
    "execution": {
     "iopub.execute_input": "2023-12-01T18:42:11.226187Z",
     "iopub.status.busy": "2023-12-01T18:42:11.225174Z",
     "iopub.status.idle": "2023-12-01T18:42:11.234130Z",
     "shell.execute_reply": "2023-12-01T18:42:11.232578Z",
     "shell.execute_reply.started": "2023-12-01T18:42:11.226123Z"
    }
   },
   "outputs": [
    {
     "data": {
      "text/plain": [
       "['1abc2', 'pqr3stu8vwx', 'a1b2c3d4e5f', 'treb7uchet']"
      ]
     },
     "execution_count": 53,
     "metadata": {},
     "output_type": "execute_result"
    }
   ],
   "source": [
    "sample = \"\"\"1abc2\n",
    "pqr3stu8vwx\n",
    "a1b2c3d4e5f\n",
    "treb7uchet\"\"\".split('\\n')\n",
    "sample"
   ]
  },
  {
   "cell_type": "code",
   "execution_count": 55,
   "id": "e6f8b468-3492-4315-9088-8bb54b869b40",
   "metadata": {
    "execution": {
     "iopub.execute_input": "2023-12-01T18:42:20.355133Z",
     "iopub.status.busy": "2023-12-01T18:42:20.354552Z",
     "iopub.status.idle": "2023-12-01T18:42:20.363106Z",
     "shell.execute_reply": "2023-12-01T18:42:20.362063Z",
     "shell.execute_reply.started": "2023-12-01T18:42:20.355093Z"
    }
   },
   "outputs": [
    {
     "name": "stdout",
     "output_type": "stream",
     "text": [
      "('1', '2')\n",
      "('3', '8')\n",
      "('1', '5')\n",
      "('7', '7')\n"
     ]
    }
   ],
   "source": [
    "import re\n",
    "\n",
    "def extract_calibration_value(txt, debug=False):\n",
    "    digits = re.match(r'^.*?(\\d)', txt).group(1), re.match(r'.*(\\d).*$', txt).group(1)\n",
    "    if debug:\n",
    "        print(digits)\n",
    "    return int(''.join(digits))\n",
    "\n",
    "sample_res = [12, 38, 15, 77]\n",
    "assert all(extract_calibration_value(line, debug=True) == res for line, res in zip(sample, sample_res))"
   ]
  },
  {
   "cell_type": "code",
   "execution_count": 41,
   "id": "699aa885-484f-4ecb-bef5-97035871be73",
   "metadata": {
    "execution": {
     "iopub.execute_input": "2023-12-01T18:29:17.898806Z",
     "iopub.status.busy": "2023-12-01T18:29:17.897987Z",
     "iopub.status.idle": "2023-12-01T18:29:17.907829Z",
     "shell.execute_reply": "2023-12-01T18:29:17.904769Z",
     "shell.execute_reply.started": "2023-12-01T18:29:17.898767Z"
    }
   },
   "outputs": [
    {
     "data": {
      "text/plain": [
       "(1000, 'mbnfjkxptbtjmgcrtkhxjvjhjnine83mpnsixfcmxcbnspx\\n')"
      ]
     },
     "execution_count": 41,
     "metadata": {},
     "output_type": "execute_result"
    }
   ],
   "source": [
    "with open('input_day1.txt') as f:\n",
    "    lines = f.readlines()\n",
    "len(lines), lines[-1]"
   ]
  },
  {
   "cell_type": "code",
   "execution_count": 42,
   "id": "aefe256e-f002-4c97-9f65-41318985fe78",
   "metadata": {
    "execution": {
     "iopub.execute_input": "2023-12-01T18:29:18.587360Z",
     "iopub.status.busy": "2023-12-01T18:29:18.586887Z",
     "iopub.status.idle": "2023-12-01T18:29:18.600728Z",
     "shell.execute_reply": "2023-12-01T18:29:18.599496Z",
     "shell.execute_reply.started": "2023-12-01T18:29:18.587321Z"
    }
   },
   "outputs": [
    {
     "data": {
      "text/plain": [
       "53974"
      ]
     },
     "execution_count": 42,
     "metadata": {},
     "output_type": "execute_result"
    }
   ],
   "source": [
    "sum(map(extract_calibration_value, lines))"
   ]
  },
  {
   "cell_type": "code",
   "execution_count": 61,
   "id": "38909687-2f93-421b-8eb5-7e6762f484d3",
   "metadata": {
    "execution": {
     "iopub.execute_input": "2023-12-01T18:45:29.821517Z",
     "iopub.status.busy": "2023-12-01T18:45:29.820929Z",
     "iopub.status.idle": "2023-12-01T18:45:29.832417Z",
     "shell.execute_reply": "2023-12-01T18:45:29.831427Z",
     "shell.execute_reply.started": "2023-12-01T18:45:29.821469Z"
    }
   },
   "outputs": [
    {
     "name": "stdout",
     "output_type": "stream",
     "text": [
      "(\\d|one|two|three|four|five|six|seven|eight|nine)\n",
      "['2', '9']\n",
      "['8', '3']\n",
      "['1', '3']\n",
      "['2', '4']\n",
      "['4', '2']\n",
      "['1', '4']\n",
      "['7', '6']\n"
     ]
    }
   ],
   "source": [
    "sample = \"\"\"two1nine\n",
    "eightwothree\n",
    "abcone2threexyz\n",
    "xtwone3four\n",
    "4nineeightseven2\n",
    "zoneight234\n",
    "7pqrstsixteen\"\"\".split('\\n')\n",
    "sample_res = [29, 83, 13, 24, 42, 14, 76]\n",
    "\n",
    "DIGIT_STRINGS = ['one', 'two', 'three', 'four', 'five', 'six', 'seven', 'eight', 'nine']\n",
    "DIGIT_MAP = {s: str(i+1) for i, s in enumerate(DIGIT_STRINGS)}\n",
    "DIGIT_REGEX = r'(\\d|' + '|'.join(DIGIT_STRINGS) + ')'\n",
    "print(DIGIT_REGEX)\n",
    "\n",
    "def extract_calibration_value_2(txt, debug=False):\n",
    "    digits = re.match(rf'^.*?{DIGIT_REGEX}', txt).group(1), re.match(rf'.*{DIGIT_REGEX}.*$', txt).group(1)\n",
    "    digits = [DIGIT_MAP.get(d) or d for d in digits]\n",
    "    if debug:\n",
    "        print(digits)\n",
    "    return int(''.join(digits))\n",
    "\n",
    "assert all(extract_calibration_value_2(line, debug=True) == res for line, res in zip(sample, sample_res))"
   ]
  },
  {
   "cell_type": "code",
   "execution_count": 62,
   "id": "a5da94a0-d968-4703-846d-d1f81774022a",
   "metadata": {
    "execution": {
     "iopub.execute_input": "2023-12-01T18:46:35.298480Z",
     "iopub.status.busy": "2023-12-01T18:46:35.297486Z",
     "iopub.status.idle": "2023-12-01T18:46:35.311881Z",
     "shell.execute_reply": "2023-12-01T18:46:35.310984Z",
     "shell.execute_reply.started": "2023-12-01T18:46:35.298403Z"
    }
   },
   "outputs": [
    {
     "data": {
      "text/plain": [
       "52840"
      ]
     },
     "execution_count": 62,
     "metadata": {},
     "output_type": "execute_result"
    }
   ],
   "source": [
    "sum(map(extract_calibration_value_2, lines))"
   ]
  },
  {
   "cell_type": "markdown",
   "id": "73694021-df14-4d36-8f31-43da1c95adba",
   "metadata": {},
   "source": [
    "## Day 2: Cube Conundrum"
   ]
  },
  {
   "cell_type": "code",
   "execution_count": 63,
   "id": "f5d4d5fe-1939-4b2f-bd99-626d8b26d1f7",
   "metadata": {
    "execution": {
     "iopub.execute_input": "2023-12-04T14:41:50.609236Z",
     "iopub.status.busy": "2023-12-04T14:41:50.608243Z",
     "iopub.status.idle": "2023-12-04T14:41:50.620037Z",
     "shell.execute_reply": "2023-12-04T14:41:50.618886Z",
     "shell.execute_reply.started": "2023-12-04T14:41:50.609160Z"
    }
   },
   "outputs": [
    {
     "data": {
      "text/plain": [
       "[{'blue': 3, 'red': 4}, {'red': 1, 'green': 2, 'blue': 6}, {'green': 2}]"
      ]
     },
     "execution_count": 63,
     "metadata": {},
     "output_type": "execute_result"
    }
   ],
   "source": [
    "def parse_game(line):\n",
    "    game = [dict((lambda p: (p[1], int(p[0])))(chunk.split()) for chunk in draw.split(', '))\n",
    "            for draw in line.strip().split('; ')]\n",
    "    return game\n",
    "\n",
    "l = '3 blue, 4 red; 1 red, 2 green, 6 blue; 2 green'\n",
    "parse_game(l)"
   ]
  },
  {
   "cell_type": "code",
   "execution_count": 64,
   "id": "b8f187f7-bee8-4b81-9a69-fb1ad504b973",
   "metadata": {
    "execution": {
     "iopub.execute_input": "2023-12-04T14:41:51.772698Z",
     "iopub.status.busy": "2023-12-04T14:41:51.772054Z",
     "iopub.status.idle": "2023-12-04T14:41:51.779134Z",
     "shell.execute_reply": "2023-12-04T14:41:51.777720Z",
     "shell.execute_reply.started": "2023-12-04T14:41:51.772645Z"
    }
   },
   "outputs": [],
   "source": [
    "sample = \"\"\"Game 1: 3 blue, 4 red; 1 red, 2 green, 6 blue; 2 green\n",
    "Game 2: 1 blue, 2 green; 3 green, 4 blue, 1 red; 1 green, 1 blue\n",
    "Game 3: 8 green, 6 blue, 20 red; 5 blue, 4 red, 13 green; 5 green, 1 red\n",
    "Game 4: 1 green, 3 red, 6 blue; 3 green, 6 red; 3 green, 15 blue, 14 red\n",
    "Game 5: 6 red, 1 blue, 3 green; 2 blue, 1 red, 2 green\"\"\".split('\\n')"
   ]
  },
  {
   "cell_type": "code",
   "execution_count": 65,
   "id": "bdfa8159-b5d4-430c-a3c2-322664a91f7d",
   "metadata": {
    "execution": {
     "iopub.execute_input": "2023-12-04T14:42:01.017599Z",
     "iopub.status.busy": "2023-12-04T14:42:01.016961Z",
     "iopub.status.idle": "2023-12-04T14:42:01.030786Z",
     "shell.execute_reply": "2023-12-04T14:42:01.029624Z",
     "shell.execute_reply.started": "2023-12-04T14:42:01.017550Z"
    }
   },
   "outputs": [
    {
     "name": "stdout",
     "output_type": "stream",
     "text": [
      "[{'blue': 3, 'red': 4}, {'red': 1, 'green': 2, 'blue': 6}, {'green': 2}]\n",
      "[{'blue': 1, 'green': 2}, {'green': 3, 'blue': 4, 'red': 1}, {'green': 1, 'blue': 1}]\n",
      "[{'green': 8, 'blue': 6, 'red': 20}, {'blue': 5, 'red': 4, 'green': 13}, {'green': 5, 'red': 1}]\n",
      "[{'green': 1, 'red': 3, 'blue': 6}, {'green': 3, 'red': 6}, {'green': 3, 'blue': 15, 'red': 14}]\n",
      "[{'red': 6, 'blue': 1, 'green': 3}, {'blue': 2, 'red': 1, 'green': 2}]\n"
     ]
    },
    {
     "data": {
      "text/plain": [
       "8"
      ]
     },
     "execution_count": 65,
     "metadata": {},
     "output_type": "execute_result"
    }
   ],
   "source": [
    "def sum_possible_games(lines, max_vals={'red': 12, 'green': 13, 'blue': 14}, debug=False):\n",
    "    res = 0\n",
    "    for i, line in enumerate(lines):\n",
    "        game = parse_game(line.split(': ')[1])\n",
    "        if debug:\n",
    "            print(game)\n",
    "        if not any(any(draw[k] > max_vals[k] for k in draw)\n",
    "                   for draw in game):\n",
    "            res += i+1\n",
    "    return res\n",
    "\n",
    "sum_possible_games(sample, debug=True)"
   ]
  },
  {
   "cell_type": "code",
   "execution_count": 66,
   "id": "b8e6874b-348d-44bf-80d5-b340a49686fa",
   "metadata": {
    "execution": {
     "iopub.execute_input": "2023-12-04T14:42:10.648240Z",
     "iopub.status.busy": "2023-12-04T14:42:10.647597Z",
     "iopub.status.idle": "2023-12-04T14:42:10.658490Z",
     "shell.execute_reply": "2023-12-04T14:42:10.657454Z",
     "shell.execute_reply.started": "2023-12-04T14:42:10.648184Z"
    }
   },
   "outputs": [
    {
     "data": {
      "text/plain": [
       "(100, 'Game 100: 10 red; 11 blue, 12 red; 1 green, 7 blue, 6 red\\n')"
      ]
     },
     "execution_count": 66,
     "metadata": {},
     "output_type": "execute_result"
    }
   ],
   "source": [
    "with open('input_day2.txt') as f:\n",
    "    lines = f.readlines()\n",
    "len(lines), lines[-1]"
   ]
  },
  {
   "cell_type": "code",
   "execution_count": 67,
   "id": "08271431-ec9e-4867-99ec-e44dfbd2b550",
   "metadata": {
    "execution": {
     "iopub.execute_input": "2023-12-04T14:42:11.556581Z",
     "iopub.status.busy": "2023-12-04T14:42:11.555799Z",
     "iopub.status.idle": "2023-12-04T14:42:11.567991Z",
     "shell.execute_reply": "2023-12-04T14:42:11.566846Z",
     "shell.execute_reply.started": "2023-12-04T14:42:11.556523Z"
    }
   },
   "outputs": [
    {
     "data": {
      "text/plain": [
       "2679"
      ]
     },
     "execution_count": 67,
     "metadata": {},
     "output_type": "execute_result"
    }
   ],
   "source": [
    "sum_possible_games(lines)"
   ]
  },
  {
   "cell_type": "code",
   "execution_count": 71,
   "id": "3fd8d529-4ea7-4a86-ae8f-fb0665af4398",
   "metadata": {
    "execution": {
     "iopub.execute_input": "2023-12-04T14:44:03.314800Z",
     "iopub.status.busy": "2023-12-04T14:44:03.313479Z",
     "iopub.status.idle": "2023-12-04T14:44:03.324079Z",
     "shell.execute_reply": "2023-12-04T14:44:03.322646Z",
     "shell.execute_reply.started": "2023-12-04T14:44:03.314749Z"
    }
   },
   "outputs": [],
   "source": [
    "from collections import defaultdict\n",
    "from math import prod\n",
    "\n",
    "\n",
    "def compute_game_power(game):\n",
    "    min_vals = defaultdict(int)\n",
    "    for draw in game:\n",
    "        for k in draw:\n",
    "            min_vals[k] = max(draw[k], min_vals[k])\n",
    "    return prod(min_vals.values())\n",
    "    \n",
    "powers = [48, 12, 1560, 630, 36]\n",
    "assert all(compute_game_power(parse_game(line.split(': ')[1])) == power\n",
    "           for line, power in zip(sample, powers))"
   ]
  },
  {
   "cell_type": "code",
   "execution_count": 72,
   "id": "dc768b2d-be83-4531-88d6-bf20d9f9f6ee",
   "metadata": {
    "execution": {
     "iopub.execute_input": "2023-12-04T14:45:37.084479Z",
     "iopub.status.busy": "2023-12-04T14:45:37.083616Z",
     "iopub.status.idle": "2023-12-04T14:45:37.097672Z",
     "shell.execute_reply": "2023-12-04T14:45:37.096544Z",
     "shell.execute_reply.started": "2023-12-04T14:45:37.084344Z"
    }
   },
   "outputs": [
    {
     "data": {
      "text/plain": [
       "77607"
      ]
     },
     "execution_count": 72,
     "metadata": {},
     "output_type": "execute_result"
    }
   ],
   "source": [
    "sum(compute_game_power(parse_game(line.split(': ')[1]))\n",
    "    for line in lines)"
   ]
  },
  {
   "cell_type": "markdown",
   "id": "c3ad453f-12d5-45af-b57b-09659fdc1330",
   "metadata": {},
   "source": [
    "## Day 3: Gear Ratios"
   ]
  },
  {
   "cell_type": "code",
   "execution_count": 80,
   "id": "ccd240b1-96ab-4dc2-9eaf-25ec95e9082a",
   "metadata": {
    "execution": {
     "iopub.execute_input": "2023-12-05T00:48:58.536999Z",
     "iopub.status.busy": "2023-12-05T00:48:58.536080Z",
     "iopub.status.idle": "2023-12-05T00:48:58.550445Z",
     "shell.execute_reply": "2023-12-05T00:48:58.548744Z",
     "shell.execute_reply.started": "2023-12-05T00:48:58.536882Z"
    }
   },
   "outputs": [],
   "source": [
    "sample = \"\"\"\n",
    "467..114..\n",
    "...*......\n",
    "..35..633.\n",
    "......#...\n",
    "617*......\n",
    ".....+.58.\n",
    "..592.....\n",
    "......755.\n",
    "...$.*....\n",
    ".664.598..\"\"\".strip().split('\\n')"
   ]
  },
  {
   "cell_type": "code",
   "execution_count": 97,
   "id": "bd61a73f-28b1-4528-af7b-77f7c41bca77",
   "metadata": {
    "execution": {
     "iopub.execute_input": "2023-12-05T01:21:47.497143Z",
     "iopub.status.busy": "2023-12-05T01:21:47.496628Z",
     "iopub.status.idle": "2023-12-05T01:21:47.507124Z",
     "shell.execute_reply": "2023-12-05T01:21:47.505803Z",
     "shell.execute_reply.started": "2023-12-05T01:21:47.497099Z"
    }
   },
   "outputs": [
    {
     "data": {
      "text/plain": [
       "(0, 3, 467)"
      ]
     },
     "execution_count": 97,
     "metadata": {},
     "output_type": "execute_result"
    }
   ],
   "source": [
    "import re\n",
    "m = list(re.finditer(r'(\\d+)', sample[0]))[0]\n",
    "m.start(), m.end(), int(m.group())"
   ]
  },
  {
   "cell_type": "code",
   "execution_count": 143,
   "id": "af7bf016-7ba3-44bc-a3d3-780fe5a5ad09",
   "metadata": {
    "execution": {
     "iopub.execute_input": "2023-12-05T02:00:37.218852Z",
     "iopub.status.busy": "2023-12-05T02:00:37.217990Z",
     "iopub.status.idle": "2023-12-05T02:00:37.232246Z",
     "shell.execute_reply": "2023-12-05T02:00:37.231230Z",
     "shell.execute_reply.started": "2023-12-05T02:00:37.218797Z"
    }
   },
   "outputs": [
    {
     "name": "stdout",
     "output_type": "stream",
     "text": [
      "[(0, 3, 467), (5, 8, 114)] []\n",
      "#0 Part numbers <- []\n",
      "\n",
      "[] ['*']\n",
      "#1 Part numbers <- [467]\n",
      "\n",
      "[(2, 4, 35), (6, 9, 633)] []\n",
      "#2 Part numbers <- [35]\n",
      "\n",
      "[] ['#']\n",
      "#3 Part numbers <- [633]\n",
      "\n",
      "[(0, 3, 617)] ['*']\n",
      "#4 Part numbers <- [617]\n",
      "\n",
      "[(7, 9, 58)] ['+']\n",
      "#5 Part numbers <- []\n",
      "\n",
      "[(2, 5, 592)] []\n",
      "#6 Part numbers <- [592]\n",
      "\n",
      "[(6, 9, 755)] []\n",
      "#7 Part numbers <- []\n",
      "\n",
      "[] ['$', '*']\n",
      "#8 Part numbers <- [755]\n",
      "\n",
      "[(1, 4, 664), (5, 8, 598)] []\n",
      "#9 Part numbers <- [664, 598]\n",
      "\n"
     ]
    }
   ],
   "source": [
    "def extract_part_numbers(lines, debug=False):\n",
    "    last_numbers, last_symbols = [], set()\n",
    "    part_numbers = []\n",
    "    for i, line in enumerate(lines):\n",
    "        numbers = [(m.start(), m.end(), int(m.group())) for m in re.finditer(r'(\\d+)', line)]\n",
    "        symbols = list(re.finditer(r'([^\\d.])', line.strip()))\n",
    "        if debug:\n",
    "            print(numbers, [s.group() for s in symbols])\n",
    "        symbols = set(m.start() for m in symbols)\n",
    "\n",
    "        new_nums = []\n",
    "        for start, end, n in numbers:\n",
    "            if any(abs(start - 1) <= s <= min(len(line), end) for s in symbols | last_symbols):\n",
    "                new_nums.append(n)\n",
    "        for start, end, n in last_numbers:\n",
    "            if any(abs(start - 1) <= s <= min(len(line), end) for s in symbols):\n",
    "                new_nums.append(n)\n",
    "        \n",
    "        if debug:\n",
    "            print(f'#{i} Part numbers <- {new_nums}\\n')\n",
    "\n",
    "        part_numbers += new_nums\n",
    "        last_numbers, last_symbols = numbers, symbols\n",
    "    return part_numbers\n",
    "\n",
    "assert sum(extract_part_numbers(sample, debug=True)) == 4361"
   ]
  },
  {
   "cell_type": "code",
   "execution_count": 144,
   "id": "6be5ef63-8e99-4524-a269-5430843272c7",
   "metadata": {
    "execution": {
     "iopub.execute_input": "2023-12-05T02:00:38.098169Z",
     "iopub.status.busy": "2023-12-05T02:00:38.097630Z",
     "iopub.status.idle": "2023-12-05T02:00:38.108262Z",
     "shell.execute_reply": "2023-12-05T02:00:38.107077Z",
     "shell.execute_reply.started": "2023-12-05T02:00:38.098121Z"
    }
   },
   "outputs": [
    {
     "data": {
      "text/plain": [
       "(140,\n",
       " '.......................................261......807.261.............................42......................................................')"
      ]
     },
     "execution_count": 144,
     "metadata": {},
     "output_type": "execute_result"
    }
   ],
   "source": [
    "with open('input_day3.txt') as f:\n",
    "    lines = f.readlines()\n",
    "len(lines), lines[-1].strip()"
   ]
  },
  {
   "cell_type": "code",
   "execution_count": 145,
   "id": "d8ad1aa8-96fb-4092-96cc-82b0b3b15cad",
   "metadata": {
    "execution": {
     "iopub.execute_input": "2023-12-05T02:00:39.437714Z",
     "iopub.status.busy": "2023-12-05T02:00:39.437085Z",
     "iopub.status.idle": "2023-12-05T02:00:39.461396Z",
     "shell.execute_reply": "2023-12-05T02:00:39.459485Z",
     "shell.execute_reply.started": "2023-12-05T02:00:39.437660Z"
    }
   },
   "outputs": [
    {
     "data": {
      "text/plain": [
       "522726"
      ]
     },
     "execution_count": 145,
     "metadata": {},
     "output_type": "execute_result"
    }
   ],
   "source": [
    "sum(extract_part_numbers(lines))"
   ]
  },
  {
   "cell_type": "code",
   "execution_count": null,
   "id": "4c18b34e-bc67-4a00-bdab-a2b4a6c031b3",
   "metadata": {},
   "outputs": [],
   "source": []
  }
 ],
 "metadata": {
  "kernelspec": {
   "display_name": "Python 3 (ipykernel)",
   "language": "python",
   "name": "python3"
  },
  "language_info": {
   "codemirror_mode": {
    "name": "ipython",
    "version": 3
   },
   "file_extension": ".py",
   "mimetype": "text/x-python",
   "name": "python",
   "nbconvert_exporter": "python",
   "pygments_lexer": "ipython3",
   "version": "3.10.4"
  }
 },
 "nbformat": 4,
 "nbformat_minor": 5
}
